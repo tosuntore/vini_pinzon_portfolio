{
  "nbformat": 4,
  "nbformat_minor": 0,
  "metadata": {
    "colab": {
      "provenance": [],
      "include_colab_link": true
    },
    "kernelspec": {
      "name": "python3",
      "display_name": "Python 3"
    },
    "language_info": {
      "name": "python"
    }
  },
  "cells": [
    {
      "cell_type": "markdown",
      "metadata": {
        "id": "view-in-github",
        "colab_type": "text"
      },
      "source": [
        "<a href=\"https://colab.research.google.com/github/tosuntore/vini_pinzon_portfolio/blob/main/Modelo_de_previs%C3%A3o_dos_resultados_da_Copa_do_Mundo.ipynb\" target=\"_parent\"><img src=\"https://colab.research.google.com/assets/colab-badge.svg\" alt=\"Open In Colab\"/></a>"
      ]
    },
    {
      "cell_type": "markdown",
      "source": [
        "# As casas de apostas que se cuidem!\n",
        "\n",
        "Exercício para prever o desempenho das Seleções na Copa do Mundo de 2022, com \n",
        "\n",
        "1.   Item da lista\n",
        "2.   Item da lista\n",
        "\n",
        "base nas pontuações do ranking FIFA. Será que o algoritmo consegue acertar quem levou a taça? \n",
        "\n",
        "Inspirado no workshop hands on \"Evitando o 7x1 com Python e SQL\", da DIO. "
      ],
      "metadata": {
        "id": "GJm-vq19ibVn"
      }
    },
    {
      "cell_type": "markdown",
      "source": [
        "## 1. Estrutura com os [Grupos e Seleções](https://global.discourse-cdn.com/nubank/original/4X/d/d/b/ddb82274a8785b60d1a19df8aeee768e87091292.jpeg), além de seus respectivos scores ([Ranking FIFA](https://www.ogol.com.br/ranking_fifa.php))"
      ],
      "metadata": {
        "id": "i1-xxLLdEgBE"
      }
    },
    {
      "cell_type": "code",
      "source": [
        "import pandas as pd\n",
        "\n",
        "df = pd.read_csv('https://raw.githubusercontent.com/digitalinnovationone/live-coding-evitando-o-7x1-com-python-e-sql/main/data.csv')\n",
        "df.head()\n",
        "# Dataframe disponibilizado no workshop, com os grupos da Copa e as pontuações do ranking FIFA para cada Seleção."
      ],
      "metadata": {
        "id": "U1OsqB9oES9m",
        "colab": {
          "base_uri": "https://localhost:8080/",
          "height": 175
        },
        "outputId": "e6c27daa-34eb-43c0-b406-f60fff7e5d73"
      },
      "execution_count": 14,
      "outputs": [
        {
          "output_type": "execute_result",
          "data": {
            "text/plain": [
              "            A           B           C           D           E           F  \\\n",
              "0  CAT|1442.0  EUA|1635.0  ARG|1770.7  AUS|1483.7  ALE|1659.0  BEL|1821.9   \n",
              "1  EQU|1463.7  ING|1737.5  ARA|1435.7  DIN|1665.5  COS|1500.1  CAN|1473.8   \n",
              "2  HOL|1679.4  IRA|1558.6  MEX|1649.6  FRA|1764.9  ESP|1716.9  CRO|1632.2   \n",
              "3  SEN|1584.6  GAL|1582.1  POL|1546.2  TUN|1507.9  JAP|1554.7  MAR|1558.4   \n",
              "\n",
              "            G           H  \n",
              "0  BRA|1837.6  COR|1526.0  \n",
              "1  CAM|1485.0  GAN|1393.5  \n",
              "2  SUI|1621.4  POR|1678.7  \n",
              "3  SER|1549.5  URU|1641.0  "
            ],
            "text/html": [
              "\n",
              "  <div id=\"df-a9f23259-5e42-4d53-ad96-66f9956c6904\">\n",
              "    <div class=\"colab-df-container\">\n",
              "      <div>\n",
              "<style scoped>\n",
              "    .dataframe tbody tr th:only-of-type {\n",
              "        vertical-align: middle;\n",
              "    }\n",
              "\n",
              "    .dataframe tbody tr th {\n",
              "        vertical-align: top;\n",
              "    }\n",
              "\n",
              "    .dataframe thead th {\n",
              "        text-align: right;\n",
              "    }\n",
              "</style>\n",
              "<table border=\"1\" class=\"dataframe\">\n",
              "  <thead>\n",
              "    <tr style=\"text-align: right;\">\n",
              "      <th></th>\n",
              "      <th>A</th>\n",
              "      <th>B</th>\n",
              "      <th>C</th>\n",
              "      <th>D</th>\n",
              "      <th>E</th>\n",
              "      <th>F</th>\n",
              "      <th>G</th>\n",
              "      <th>H</th>\n",
              "    </tr>\n",
              "  </thead>\n",
              "  <tbody>\n",
              "    <tr>\n",
              "      <th>0</th>\n",
              "      <td>CAT|1442.0</td>\n",
              "      <td>EUA|1635.0</td>\n",
              "      <td>ARG|1770.7</td>\n",
              "      <td>AUS|1483.7</td>\n",
              "      <td>ALE|1659.0</td>\n",
              "      <td>BEL|1821.9</td>\n",
              "      <td>BRA|1837.6</td>\n",
              "      <td>COR|1526.0</td>\n",
              "    </tr>\n",
              "    <tr>\n",
              "      <th>1</th>\n",
              "      <td>EQU|1463.7</td>\n",
              "      <td>ING|1737.5</td>\n",
              "      <td>ARA|1435.7</td>\n",
              "      <td>DIN|1665.5</td>\n",
              "      <td>COS|1500.1</td>\n",
              "      <td>CAN|1473.8</td>\n",
              "      <td>CAM|1485.0</td>\n",
              "      <td>GAN|1393.5</td>\n",
              "    </tr>\n",
              "    <tr>\n",
              "      <th>2</th>\n",
              "      <td>HOL|1679.4</td>\n",
              "      <td>IRA|1558.6</td>\n",
              "      <td>MEX|1649.6</td>\n",
              "      <td>FRA|1764.9</td>\n",
              "      <td>ESP|1716.9</td>\n",
              "      <td>CRO|1632.2</td>\n",
              "      <td>SUI|1621.4</td>\n",
              "      <td>POR|1678.7</td>\n",
              "    </tr>\n",
              "    <tr>\n",
              "      <th>3</th>\n",
              "      <td>SEN|1584.6</td>\n",
              "      <td>GAL|1582.1</td>\n",
              "      <td>POL|1546.2</td>\n",
              "      <td>TUN|1507.9</td>\n",
              "      <td>JAP|1554.7</td>\n",
              "      <td>MAR|1558.4</td>\n",
              "      <td>SER|1549.5</td>\n",
              "      <td>URU|1641.0</td>\n",
              "    </tr>\n",
              "  </tbody>\n",
              "</table>\n",
              "</div>\n",
              "      <button class=\"colab-df-convert\" onclick=\"convertToInteractive('df-a9f23259-5e42-4d53-ad96-66f9956c6904')\"\n",
              "              title=\"Convert this dataframe to an interactive table.\"\n",
              "              style=\"display:none;\">\n",
              "        \n",
              "  <svg xmlns=\"http://www.w3.org/2000/svg\" height=\"24px\"viewBox=\"0 0 24 24\"\n",
              "       width=\"24px\">\n",
              "    <path d=\"M0 0h24v24H0V0z\" fill=\"none\"/>\n",
              "    <path d=\"M18.56 5.44l.94 2.06.94-2.06 2.06-.94-2.06-.94-.94-2.06-.94 2.06-2.06.94zm-11 1L8.5 8.5l.94-2.06 2.06-.94-2.06-.94L8.5 2.5l-.94 2.06-2.06.94zm10 10l.94 2.06.94-2.06 2.06-.94-2.06-.94-.94-2.06-.94 2.06-2.06.94z\"/><path d=\"M17.41 7.96l-1.37-1.37c-.4-.4-.92-.59-1.43-.59-.52 0-1.04.2-1.43.59L10.3 9.45l-7.72 7.72c-.78.78-.78 2.05 0 2.83L4 21.41c.39.39.9.59 1.41.59.51 0 1.02-.2 1.41-.59l7.78-7.78 2.81-2.81c.8-.78.8-2.07 0-2.86zM5.41 20L4 18.59l7.72-7.72 1.47 1.35L5.41 20z\"/>\n",
              "  </svg>\n",
              "      </button>\n",
              "      \n",
              "  <style>\n",
              "    .colab-df-container {\n",
              "      display:flex;\n",
              "      flex-wrap:wrap;\n",
              "      gap: 12px;\n",
              "    }\n",
              "\n",
              "    .colab-df-convert {\n",
              "      background-color: #E8F0FE;\n",
              "      border: none;\n",
              "      border-radius: 50%;\n",
              "      cursor: pointer;\n",
              "      display: none;\n",
              "      fill: #1967D2;\n",
              "      height: 32px;\n",
              "      padding: 0 0 0 0;\n",
              "      width: 32px;\n",
              "    }\n",
              "\n",
              "    .colab-df-convert:hover {\n",
              "      background-color: #E2EBFA;\n",
              "      box-shadow: 0px 1px 2px rgba(60, 64, 67, 0.3), 0px 1px 3px 1px rgba(60, 64, 67, 0.15);\n",
              "      fill: #174EA6;\n",
              "    }\n",
              "\n",
              "    [theme=dark] .colab-df-convert {\n",
              "      background-color: #3B4455;\n",
              "      fill: #D2E3FC;\n",
              "    }\n",
              "\n",
              "    [theme=dark] .colab-df-convert:hover {\n",
              "      background-color: #434B5C;\n",
              "      box-shadow: 0px 1px 3px 1px rgba(0, 0, 0, 0.15);\n",
              "      filter: drop-shadow(0px 1px 2px rgba(0, 0, 0, 0.3));\n",
              "      fill: #FFFFFF;\n",
              "    }\n",
              "  </style>\n",
              "\n",
              "      <script>\n",
              "        const buttonEl =\n",
              "          document.querySelector('#df-a9f23259-5e42-4d53-ad96-66f9956c6904 button.colab-df-convert');\n",
              "        buttonEl.style.display =\n",
              "          google.colab.kernel.accessAllowed ? 'block' : 'none';\n",
              "\n",
              "        async function convertToInteractive(key) {\n",
              "          const element = document.querySelector('#df-a9f23259-5e42-4d53-ad96-66f9956c6904');\n",
              "          const dataTable =\n",
              "            await google.colab.kernel.invokeFunction('convertToInteractive',\n",
              "                                                     [key], {});\n",
              "          if (!dataTable) return;\n",
              "\n",
              "          const docLinkHtml = 'Like what you see? Visit the ' +\n",
              "            '<a target=\"_blank\" href=https://colab.research.google.com/notebooks/data_table.ipynb>data table notebook</a>'\n",
              "            + ' to learn more about interactive tables.';\n",
              "          element.innerHTML = '';\n",
              "          dataTable['output_type'] = 'display_data';\n",
              "          await google.colab.output.renderOutput(dataTable, element);\n",
              "          const docLink = document.createElement('div');\n",
              "          docLink.innerHTML = docLinkHtml;\n",
              "          element.appendChild(docLink);\n",
              "        }\n",
              "      </script>\n",
              "    </div>\n",
              "  </div>\n",
              "  "
            ]
          },
          "metadata": {},
          "execution_count": 14
        }
      ]
    },
    {
      "cell_type": "markdown",
      "source": [
        "##2. Sempre há \"zebras\" em qualquer competição esportiva, justamente por haver o elemento da imprevisibilidade nos esportes. Vamos criar uma classe aleatória para que não seja 100% garantido que a Seleção com maior pontução vença."
      ],
      "metadata": {
        "id": "LT5NfOUNwXTa"
      }
    },
    {
      "cell_type": "code",
      "source": [
        "import random\n",
        "\n",
        "class Team:\n",
        "  melhor_score = 1837.6 # O Melhor Score é do Brasil. Vamos usar como referência\n",
        "\n",
        "  # Tratar os dados para seprar os nomes dos números\n",
        "  def __init__(self, cellData):\n",
        "    teamData = cellData.split('|')\n",
        "    self.name = teamData[0]\n",
        "    self.score = float(teamData[1])\n",
        "  \n",
        "  # Definir um fator de motivação para que a aleatoriedade não seja tão determinante\n",
        "  def motivate(self):\n",
        "    self.motivacao = random.uniform(70, (self.score * 100) / Team.melhor_score)\n",
        "    return self.motivacao\n",
        "    \n",
        "    \n",
        "    # A pior seleção da copa (GAN) têm 1393.5 de score, equivalente a 75% do melhor score (BRA).\n",
        "    #Baseado nisso, podemos definir um intervalo inicial próximo de 75. \n",
        "    #Por exemplo, GAN poderia ter valores entre 70~75 (aproximadamente). Por outro lado, BRA teria 70~100 (maior chance de vitória).\n",
        "   "
      ],
      "metadata": {
        "id": "jc2iDAOjwEZK"
      },
      "execution_count": 18,
      "outputs": []
    },
    {
      "cell_type": "markdown",
      "source": [
        "##3. Simulando a Fase de Grupos:"
      ],
      "metadata": {
        "id": "0rJ55ARry6o9"
      }
    },
    {
      "cell_type": "code",
      "execution_count": 21,
      "metadata": {
        "id": "ZwHNqXF6aGxr",
        "colab": {
          "base_uri": "https://localhost:8080/"
        },
        "outputId": "bb53561e-2ad2-4734-e27e-d7fdf477d61f"
      },
      "outputs": [
        {
          "output_type": "stream",
          "name": "stdout",
          "text": [
            "Grupo A: HOL (82.14) SEN (77.20) CAT (73.23) EQU (70.91) \n",
            "Grupo B: GAL (82.92) ING (80.66) IRA (74.30) EUA (74.16) \n",
            "Grupo C: ARG (96.07) POL (77.62) ARA (73.34) MEX (70.37) \n",
            "Grupo D: FRA (94.52) DIN (75.72) AUS (73.90) TUN (70.15) \n",
            "Grupo E: JAP (80.19) ALE (78.04) ESP (74.13) COS (71.77) \n",
            "Grupo F: BEL (77.68) CAN (77.33) MAR (77.30) CRO (72.61) \n",
            "Grupo G: BRA (93.33) SER (76.09) CAM (74.94) SUI (71.16) \n",
            "Grupo H: URU (81.30) GAN (75.39) POR (71.62) COR (70.18) \n"
          ]
        }
      ],
      "source": [
        "# Mapa em que a chave será a letra do grupo e o valor as seleções (que ordenaremos pelas \"melhores\").\n",
        "melhores_times = {}\n",
        "# Percorre o dataframe (dados do CSV) para criar nossos objetos/seleções.\n",
        "for label, content in df.items():\n",
        "  # TODO: Instanciar as 4 seleções do grupo, com seus respectivos nomes e score.\n",
        "  team1 = Team(content[0])\n",
        "  team2 = Team(content[1])\n",
        "  team3 = Team(content[2])\n",
        "  team4 = Team(content[3])\n",
        "  # TODO: Simular os melhores do grupo com base na motivação de cada seleção. \n",
        "  #       Calculada a partir do seu ranking FIFA aliado a uma pitada de aleatoriedade.\n",
        "  melhores_times[label] = sorted([ team1, team2, team3, team4 ], key=Team.motivate, reverse=True)\n",
        "\n",
        "# TODO: Imprimir os grupos, ordenados pelas melhores seleções de cada (apenas 2 se classificam)\n",
        "for grupo, motivatedTeams in melhores_times.items():\n",
        "  print(f'Grupo {grupo}: ', end=\"\")\n",
        "  for team in motivatedTeams:\n",
        "    print(f'{team.name} ({team.motivacao:.2f}) ', end=\"\")\n",
        "  print()"
      ]
    },
    {
      "cell_type": "markdown",
      "source": [
        "## 4. Simulando as Oitavas de Final (16 melhores seleções)\n"
      ],
      "metadata": {
        "id": "XdK4ZV0g2pw-"
      }
    },
    {
      "cell_type": "code",
      "source": [
        "# Criando vaiáveis para as 2 melhores seleções de cada grupo:\n",
        "team1A = melhores_times['A'][0]\n",
        "team2A = melhores_times['A'][1]\n",
        "team1B = melhores_times['B'][0]\n",
        "team2B = melhores_times['B'][1]\n",
        "team1C = melhores_times['C'][0]\n",
        "team2C = melhores_times['C'][1]\n",
        "team1D = melhores_times['D'][0]\n",
        "team2D = melhores_times['D'][1]\n",
        "team1E = melhores_times['E'][0]\n",
        "team2E = melhores_times['E'][1]\n",
        "team1F = melhores_times['F'][0]\n",
        "team2F = melhores_times['F'][1]\n",
        "team1G = melhores_times['G'][0]\n",
        "team2G = melhores_times['G'][1]\n",
        "team1H = melhores_times['H'][0]\n",
        "team2H = melhores_times['H'][1]\n",
        "\n",
        "# TODO: Simular os confrontos das Oitavas de Final (randomizando novamente suas respectivas motivações).\n",
        "#       Além disso, também definir os classificados para as quartas de final em novas vaiáveis:\n",
        "quarter1 = team1A if team1A.motivate() > team2B.motivate() else team2B\n",
        "quarter2 = team1C if team1C.motivate() > team2D.motivate() else team2D\n",
        "quarter3 = team1E if team1E.motivate() > team2F.motivate() else team2F\n",
        "quarter4 = team1G if team1G.motivate() > team2H.motivate() else team2H\n",
        "quarter5 = team1B if team1B.motivate() > team2A.motivate() else team2A\n",
        "quarter6 = team1D if team1D.motivate() > team2C.motivate() else team2C\n",
        "quarter7 = team1F if team1F.motivate() > team2E.motivate() else team2E\n",
        "quarter8 = team1H if team1H.motivate() > team2G.motivate() else team2G\n",
        "\n",
        "# TODO: Imprimir os \"resultados\" dos confrontos realizados nas Oitavas de Final:\n",
        "print(f'{team1A.name} ({team1A.motivacao:.2f}) x {team2B.name} ({team2B.motivacao:.2f})')\n",
        "print(f'{team1C.name} ({team1C.motivacao:.2f}) x {team2D.name} ({team2D.motivacao:.2f})')\n",
        "print(f'{team1E.name} ({team1E.motivacao:.2f}) x {team2F.name} ({team2F.motivacao:.2f})')\n",
        "print(f'{team1G.name} ({team1G.motivacao:.2f}) x {team2H.name} ({team2H.motivacao:.2f})')\n",
        "print(f'{team1B.name} ({team1B.motivacao:.2f}) x {team2A.name} ({team2A.motivacao:.2f})')\n",
        "print(f'{team1D.name} ({team1D.motivacao:.2f}) x {team2C.name} ({team2C.motivacao:.2f})')\n",
        "print(f'{team1F.name} ({team1F.motivacao:.2f}) x {team2E.name} ({team2E.motivacao:.2f})')\n",
        "print(f'{team1H.name} ({team1H.motivacao:.2f}) x {team2G.name} ({team2G.motivacao:.2f})')"
      ],
      "metadata": {
        "id": "wdyYgEkV2uhA",
        "colab": {
          "base_uri": "https://localhost:8080/"
        },
        "outputId": "a14a7a63-5f65-433a-a082-966ffccf87bb"
      },
      "execution_count": 23,
      "outputs": [
        {
          "output_type": "stream",
          "name": "stdout",
          "text": [
            "HOL (84.80) x ING (92.03)\n",
            "ARG (84.87) x DIN (77.20)\n",
            "JAP (84.12) x CAN (71.32)\n",
            "BRA (73.62) x GAN (72.34)\n",
            "GAL (81.69) x SEN (70.16)\n",
            "FRA (72.73) x POL (70.18)\n",
            "BEL (76.47) x ALE (71.54)\n",
            "URU (84.28) x SER (73.73)\n"
          ]
        }
      ]
    },
    {
      "cell_type": "markdown",
      "source": [
        "## 5. Simulando as Quartas de Final (8 melhores seleções)"
      ],
      "metadata": {
        "id": "QoplyoqDGFQC"
      }
    },
    {
      "cell_type": "code",
      "source": [
        "# TODO: Simular os confrontos das Quartas de Final (randomizando novamente suas respectivas motivações).\n",
        "#       Além disso, também definir os classificados para as semifinais em novas vaiáveis:\n",
        "semi1 = quarter1 if quarter1.motivate() > quarter2.motivate() else quarter2\n",
        "semi2 = quarter3 if quarter3.motivate() > quarter4.motivate() else quarter4\n",
        "semi3 = quarter5 if quarter5.motivate() > quarter6.motivate() else quarter6\n",
        "semi4 = quarter7 if quarter7.motivate() > quarter8.motivate() else quarter8\n",
        "\n",
        "# TODO: Imprimir os \"resultados\" dos confrontos realizados nas Quartas de Final:\n",
        "print(f'{quarter1.name} ({quarter1.motivacao:.2f}) x {quarter2.name} ({quarter2.motivacao:.2f})')\n",
        "print(f'{quarter3.name} ({quarter3.motivacao:.2f}) x {quarter4.name} ({quarter4.motivacao:.2f})')\n",
        "print(f'{quarter5.name} ({quarter5.motivacao:.2f}) x {quarter6.name} ({quarter6.motivacao:.2f})')\n",
        "print(f'{quarter7.name} ({quarter7.motivacao:.2f}) x {quarter8.name} ({quarter8.motivacao:.2f})')"
      ],
      "metadata": {
        "id": "7PCQCm2BGFfV",
        "colab": {
          "base_uri": "https://localhost:8080/"
        },
        "outputId": "89dc1b72-b813-4928-edad-ee4dd13a4109"
      },
      "execution_count": 28,
      "outputs": [
        {
          "output_type": "stream",
          "name": "stdout",
          "text": [
            "ING (82.18) x ARG (86.40)\n",
            "JAP (74.03) x BRA (76.09)\n",
            "GAL (79.07) x FRA (91.49)\n",
            "BEL (92.32) x URU (75.84)\n"
          ]
        }
      ]
    },
    {
      "cell_type": "markdown",
      "source": [
        "## 6. Simulando as Semifinais (4 melhores seleções)"
      ],
      "metadata": {
        "id": "15JaIEPIIxKO"
      }
    },
    {
      "cell_type": "code",
      "source": [
        "# TODO: Simular os confrontos das Semifinais (randomizando novamente suas respectivas motivações).\n",
        "#       Além disso, também definir os classificados para a final e disputa de 3º e 4º em novas vaiáveis:\n",
        "final1 = semi1 if semi1.motivate() > semi2.motivate() else semi2\n",
        "terceiro1 = semi1 if semi1.motivacao < semi2.motivacao else semi2\n",
        "\n",
        "final2 = None\n",
        "terceiro2 = None\n",
        "if semi3.motivate() > semi4.motivate():\n",
        "  final2 = semi3\n",
        "  terceiro2 = semi4\n",
        "else:\n",
        "  final2 = semi4\n",
        "  terceiro2 = semi3\n",
        "\n",
        "# TODO: Imprimir os \"resultados\" dos confrontos realizados nas Semifinais:\n",
        "print(f'{semi1.name} ({semi1.motivacao:.2f}) x {semi2.name} ({semi2.motivacao:.2f})')\n",
        "print(f'{semi3.name} ({semi3.motivacao:.2f}) x {semi4.name} ({semi4.motivacao:.2f})')"
      ],
      "metadata": {
        "id": "4STt-WtWIxWF",
        "colab": {
          "base_uri": "https://localhost:8080/"
        },
        "outputId": "761b62af-594d-42f6-80a8-0a3739254c17"
      },
      "execution_count": 32,
      "outputs": [
        {
          "output_type": "stream",
          "name": "stdout",
          "text": [
            "ARG (73.54) x BRA (77.52)\n",
            "FRA (83.15) x BEL (72.14)\n"
          ]
        }
      ]
    },
    {
      "cell_type": "markdown",
      "source": [
        "## 7. Simulando a Final (2 melhores seleções)"
      ],
      "metadata": {
        "id": "BUgLpU_DLWCX"
      }
    },
    {
      "cell_type": "code",
      "source": [
        "# TODO: Simular os confrontos das Finais (randomizando novamente suas respectivas motivações).\n",
        "#       Além disso, também definir os 4 primeiros colocamos da Copa do Mundo de 2022:\n",
        "winner = final1 if final1.motivate() > final2.motivate() else final2\n",
        "second = final1 if final1.motivacao < final2.motivacao else final2\n",
        "third = terceiro1 if terceiro1.motivate() > terceiro2.motivate() else terceiro2\n",
        "fourth = terceiro1 if terceiro1.motivacao < terceiro2.motivacao else terceiro2\n",
        "\n",
        "# TODO: Imprimir os \"resultados\" dos confrontos realizados nas Finais:\n",
        "print(f'1º: {winner.name} ({winner.motivacao:.2f})')\n",
        "print(f'2º: {second.name} ({second.motivacao:.2f})')\n",
        "print(f'3º: {third.name} ({third.motivacao:.2f})')\n",
        "print(f'4º: {fourth.name} ({fourth.motivacao:.2f})')"
      ],
      "metadata": {
        "id": "HbXxH9KbLWLq",
        "colab": {
          "base_uri": "https://localhost:8080/"
        },
        "outputId": "65aace74-a8e5-4d46-a94d-f0b1cfb43736"
      },
      "execution_count": 35,
      "outputs": [
        {
          "output_type": "stream",
          "name": "stdout",
          "text": [
            "1º: BRA (77.82)\n",
            "2º: FRA (74.96)\n",
            "3º: ARG (87.26)\n",
            "4º: BEL (86.09)\n"
          ]
        }
      ]
    },
    {
      "cell_type": "markdown",
      "source": [
        "## 8. Conclusão\n",
        "\n",
        "Infelizmente para nós brasileiros, a \"profecia\" não se concretizou. O futebol é um esporte muito imprevisível, pois, às vezes, em 1 lance o resultado pode mudar.\n",
        "\n",
        "O prórpio ranking da FIFA serve apenas como base, pois não há como quantificar a qualiade de um time em um número. \n",
        "\n",
        "Porém, para variaveis mais objetivas, modelos de prvisão como esse podem ser muito úteis no mundo dos negócios. "
      ],
      "metadata": {
        "id": "4U84k0mJHbh9"
      }
    }
  ]
}